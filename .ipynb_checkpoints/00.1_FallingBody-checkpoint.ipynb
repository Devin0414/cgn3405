{
 "cells": [
  {
   "cell_type": "code",
   "execution_count": null,
   "metadata": {
    "collapsed": true
   },
   "outputs": [],
   "source": [
    "%matplotlib inline\n",
    "\n",
    "import math\n",
    "import numpy as np\n",
    "import matplotlib.pyplot as plt"
   ]
  },
  {
   "cell_type": "code",
   "execution_count": null,
   "metadata": {
    "collapsed": true
   },
   "outputs": [],
   "source": [
    "# define a FUNCTION to compute the analytical solution\n",
    "def analytical(g,m,c,t):\n",
    "    return (g*m/c)*(1-math.exp((-1)*(c/m*t)))"
   ]
  },
  {
   "cell_type": "code",
   "execution_count": null,
   "metadata": {
    "collapsed": false
   },
   "outputs": [],
   "source": [
    "# define a FUNCTION to compute the numerical solution\n",
    "def numerical(g,m,c,t,ti,vi):\n",
    "    return vi+(g-c/m*vi)*(t-ti)"
   ]
  },
  {
   "cell_type": "code",
   "execution_count": null,
   "metadata": {
    "collapsed": true
   },
   "outputs": [],
   "source": [
    "# define our constants (apply to all cases)\n",
    "g = 9.81\n",
    "m = 68.1\n",
    "c = 12.5\n",
    "t_start = 0\n",
    "t_end = 200"
   ]
  },
  {
   "cell_type": "code",
   "execution_count": null,
   "metadata": {
    "collapsed": true
   },
   "outputs": [],
   "source": [
    "t_step = 10\n",
    "\n",
    "# compute a LIST of time values at which we will compute solutions\n",
    "t_tick_10 = [t for t in range(t_start, t_end, t_step)]"
   ]
  },
  {
   "cell_type": "code",
   "execution_count": null,
   "metadata": {
    "collapsed": false
   },
   "outputs": [],
   "source": [
    "# compute an anlytical solution using a list generator\n",
    "a_sol_10 = [analytical(g,m,c,t) for t in t_tick_10]\n",
    "\n",
    "# just a label for the plot legend\n",
    "a_label_10 = 'a ' + str(t_step)\n",
    "\n",
    "# create the plot\n",
    "plt.plot(t_tick_10, a_sol_10, color='blue', linewidth=2, label=a_label_10)\n",
    "plt.legend(loc=4)"
   ]
  },
  {
   "cell_type": "code",
   "execution_count": null,
   "metadata": {
    "collapsed": false
   },
   "outputs": [],
   "source": [
    "snaps = int((t_end - t_start) / t_step)\n",
    "n_sol_10 = np.zeros(snaps)\n",
    "\n",
    "#compute the numerical solution using a for loop\n",
    "for i in range(snaps):\n",
    "    if i == 0:\n",
    "        ti = t_tick_10[0]\n",
    "        vi = 0\n",
    "    else:\n",
    "        ti = t_tick_10[i-1]\n",
    "        vi = n_sol_10[i-1]\n",
    "    \n",
    "    t = t_tick_10[i]   \n",
    "    n_sol_10[i] = numerical(g,m,c,t,ti,vi)\n",
    "    \n",
    "\n",
    "n_label_10 = 'n ' + str(t_step)"
   ]
  },
  {
   "cell_type": "code",
   "execution_count": null,
   "metadata": {
    "collapsed": false
   },
   "outputs": [],
   "source": [
    "# create a plot with all solutions\n",
    "\n",
    "plt.plot(t_tick_10, a_sol_10, color='blue', linewidth=2, label=a_label_10)\n",
    "plt.plot(t_tick_10, n_sol_10, color='red', linewidth=2, label=n_label_10)\n",
    "plt.legend(loc=4)"
   ]
  },
  {
   "cell_type": "code",
   "execution_count": null,
   "metadata": {
    "collapsed": true
   },
   "outputs": [],
   "source": []
  }
 ],
 "metadata": {
  "kernelspec": {
   "display_name": "Python 3",
   "language": "python",
   "name": "python3"
  },
  "language_info": {
   "codemirror_mode": {
    "name": "ipython",
    "version": 3
   },
   "file_extension": ".py",
   "mimetype": "text/x-python",
   "name": "python",
   "nbconvert_exporter": "python",
   "pygments_lexer": "ipython3",
   "version": "3.5.4"
  }
 },
 "nbformat": 4,
 "nbformat_minor": 2
}
