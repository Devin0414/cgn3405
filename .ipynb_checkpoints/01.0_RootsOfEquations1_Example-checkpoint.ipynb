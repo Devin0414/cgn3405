{
 "cells": [
  {
   "cell_type": "code",
   "execution_count": null,
   "metadata": {
    "collapsed": false
   },
   "outputs": [],
   "source": [
    "%matplotlib inline\n",
    "\n",
    "import math\n",
    "import matplotlib.pyplot as plt\n",
    "import numpy as np"
   ]
  },
  {
   "cell_type": "code",
   "execution_count": null,
   "metadata": {
    "collapsed": true
   },
   "outputs": [],
   "source": [
    "def f(x):\n",
    "    return 2*x**3 - 11.7*x**2 + 17.7*x - 5"
   ]
  },
  {
   "cell_type": "code",
   "execution_count": null,
   "metadata": {
    "collapsed": true
   },
   "outputs": [],
   "source": [
    "def g(x):\n",
    "    return (5.0 - 2.0*x**3 + 11.7*x**2) / 17.7"
   ]
  },
  {
   "cell_type": "code",
   "execution_count": null,
   "metadata": {
    "collapsed": false
   },
   "outputs": [],
   "source": [
    "def fixpt(x0, es, imax):\n",
    "    xr = x0\n",
    "    #itr = 0\n",
    "    ea = 1\n",
    "    xlist = [xr]\n",
    "    for itr in range(0,imax):\n",
    "    #while ea > es or itr <= imax:\n",
    "        xrold = xr\n",
    "        xr = g(xrold)\n",
    "        xlist.append(xr)\n",
    "        if xr != 0:\n",
    "            ea = abs((xr - xrold)/xr) * 100\n",
    "        if ea < es: break            \n",
    "    return [xr, ea, itr, xlist]"
   ]
  },
  {
   "cell_type": "code",
   "execution_count": null,
   "metadata": {
    "collapsed": false
   },
   "outputs": [],
   "source": [
    "x = np.array(np.arange(0,5,0.2))\n",
    "\n",
    "fig, (ax1, ax2) = plt.subplots(nrows=2, figsize=(7,9.6))\n",
    "\n",
    "ax1 = plt.subplot(211, sharex=ax2)\n",
    "plt.plot(x,x,color='blue')\n",
    "plt.plot(x,g(x),color='green')\n",
    "plt.setp(ax1.get_xticklabels(),visible=False)\n",
    "plt.ylim(0,5)\n",
    "plt.xlim(0,5)\n",
    "plt.grid()\n",
    "\n",
    "ax2 = plt.subplot(212, sharex=ax1)\n",
    "plt.plot(x,f(x),color='red')\n",
    "plt.plot(x,[0 for y in x],color='black')\n",
    "plt.xticks(x, rotation=90)\n",
    "plt.ylim(-2,3)\n",
    "plt.xlim(0,5)\n",
    "plt.grid()\n",
    "\n",
    "plt.show()"
   ]
  },
  {
   "cell_type": "markdown",
   "metadata": {},
   "source": [
    "We can see from the above graph that the roots are approximately 0.40, 1.9 and 3.6\n",
    "\n",
    "Now we will call the simple fixed point iteration function to determine the roots with a bit more accuracy..."
   ]
  },
  {
   "cell_type": "code",
   "execution_count": null,
   "metadata": {
    "collapsed": false
   },
   "outputs": [],
   "source": [
    "x0 = 0.40 # this is our initial guess for the first root\n",
    "es = 0.01 # this is our stopping criteria in percent\n",
    "imax = 10000 # maximum number of iterations permitted\n",
    "root1 = fixpt(x0, es, imax)\n",
    "print(root1)"
   ]
  },
  {
   "cell_type": "code",
   "execution_count": null,
   "metadata": {
    "collapsed": false
   },
   "outputs": [],
   "source": [
    "x0 = 1.9 # this is our initial guess for the second root\n",
    "es = 0.01 # this is our stopping criteria in percent\n",
    "imax = 10000 # maximum number of iterations permitted\n",
    "root2 = fixpt(x0, es, imax)\n",
    "print(root2)"
   ]
  },
  {
   "cell_type": "code",
   "execution_count": null,
   "metadata": {
    "collapsed": false
   },
   "outputs": [],
   "source": [
    "x0 = 3.6 # this is our initial guess for the third root\n",
    "es = 0.01 # this is our stopping criteria in percent\n",
    "imax = 10000 # maximum number of iterations permitted\n",
    "root3 = fixpt(x0, es, imax)\n",
    "print(root3)"
   ]
  },
  {
   "cell_type": "markdown",
   "metadata": {},
   "source": [
    "Notice that our guess for the second root converged to the first root. We can play around with the initial guess..."
   ]
  },
  {
   "cell_type": "code",
   "execution_count": null,
   "metadata": {
    "collapsed": true
   },
   "outputs": [],
   "source": [
    "def g2(x):\n",
    "    return ((2.0*x**3 + 17.7*x - 5) / 11.7)**0.5\n",
    "\n",
    "def fixpt2(x0, es, imax):\n",
    "    xr = x0\n",
    "    #itr = 0\n",
    "    ea = 1\n",
    "    xlist = [xr]\n",
    "    for itr in range(0,imax):\n",
    "    #while ea > es or itr <= imax:\n",
    "        xrold = xr\n",
    "        xr = g2(xrold)\n",
    "        xlist.append(xr)\n",
    "        if xr != 0:\n",
    "            ea = abs((xr - xrold)/xr) * 100\n",
    "        if ea < es: break            \n",
    "    return [xr, ea, itr, xlist]"
   ]
  },
  {
   "cell_type": "code",
   "execution_count": null,
   "metadata": {
    "collapsed": false
   },
   "outputs": [],
   "source": [
    "x0 = 3.5 # this is our initial guess for the second root\n",
    "es = 0.01 # this is our stopping criteria in percent\n",
    "imax = 10000 # maximum number of iterations permitted\n",
    "root2 = fixpt2(x0, es, imax)\n",
    "print(root2)"
   ]
  },
  {
   "cell_type": "code",
   "execution_count": null,
   "metadata": {
    "collapsed": false
   },
   "outputs": [],
   "source": [
    "x = np.array(np.arange(0.3,5,0.2))\n",
    "\n",
    "plt.plot(x,x,color='blue')\n",
    "plt.plot(x,g2(x),color='green')\n",
    "plt.xticks(x, rotation=90)\n",
    "plt.ylim(0,5)\n",
    "plt.xlim(0,5)\n",
    "plt.grid()\n",
    "\n",
    "plt.show()"
   ]
  }
 ],
 "metadata": {
  "kernelspec": {
   "display_name": "Python 3",
   "language": "python",
   "name": "python3"
  },
  "language_info": {
   "codemirror_mode": {
    "name": "ipython",
    "version": 3
   },
   "file_extension": ".py",
   "mimetype": "text/x-python",
   "name": "python",
   "nbconvert_exporter": "python",
   "pygments_lexer": "ipython3",
   "version": "3.5.4"
  }
 },
 "nbformat": 4,
 "nbformat_minor": 0
}
