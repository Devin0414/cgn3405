{
 "cells": [
  {
   "cell_type": "code",
   "execution_count": null,
   "metadata": {
    "collapsed": false
   },
   "outputs": [],
   "source": [
    "%matplotlib inline\n",
    "\n",
    "import math\n",
    "import matplotlib.pyplot as plt\n",
    "import numpy as np"
   ]
  },
  {
   "cell_type": "code",
   "execution_count": null,
   "metadata": {
    "collapsed": true
   },
   "outputs": [],
   "source": [
    "def f(x):\n",
    "    return math.exp((-1)*x)-x"
   ]
  },
  {
   "cell_type": "code",
   "execution_count": null,
   "metadata": {
    "collapsed": true
   },
   "outputs": [],
   "source": [
    "def fp(x):\n",
    "    return (-1)*math.exp((-1)*x)-1"
   ]
  },
  {
   "cell_type": "code",
   "execution_count": null,
   "metadata": {
    "collapsed": false
   },
   "outputs": [],
   "source": [
    "def g(x):\n",
    "    return math.exp((-1)*x)"
   ]
  },
  {
   "cell_type": "code",
   "execution_count": null,
   "metadata": {
    "collapsed": true
   },
   "outputs": [],
   "source": [
    "def fixpt(x0, es, imax):\n",
    "    xip1 = x0\n",
    "    ea = []\n",
    "    xlist = []\n",
    "    for itr in range(0,imax):\n",
    "        xi = xip1\n",
    "        xip1 = g(xi)\n",
    "        xlist.append(xip1)\n",
    "        if xip1 != 0:\n",
    "            ea.append(abs((xip1 - xi)/xip1) * 100)\n",
    "        if abs((xip1 - xi)/xip1) * 100 < es: break            \n",
    "    return itr+1, xlist, ea"
   ]
  },
  {
   "cell_type": "code",
   "execution_count": null,
   "metadata": {
    "collapsed": false
   },
   "outputs": [],
   "source": [
    "def nr(x0, es, imax):\n",
    "    xip1 = x0\n",
    "    ea = []\n",
    "    xlist = []\n",
    "    for itr in range(0,imax):\n",
    "        xi = xip1\n",
    "        xip1 = xi - f(xi)/fp(xi)\n",
    "        xlist.append(xip1)\n",
    "        if xip1 != 0:\n",
    "            ea.append(abs((xip1 - xi)/xip1) * 100)\n",
    "        if abs((xip1 - xi)/xip1) * 100 < es: break  \n",
    "    return itr+1, xlist, ea"
   ]
  },
  {
   "cell_type": "code",
   "execution_count": null,
   "metadata": {
    "collapsed": false
   },
   "outputs": [],
   "source": [
    "x = np.array(np.arange(0,5,0.05))\n",
    "y = [f(t) for t in x]\n",
    "plt.plot(x,y,color='red')\n",
    "plt.plot(x,[0 for y in x],color='black')\n",
    "plt.xticks(x, rotation=90)\n",
    "plt.ylim(-2,2)\n",
    "plt.xlim(0,1)\n",
    "plt.grid()\n",
    "\n",
    "plt.show()"
   ]
  },
  {
   "cell_type": "markdown",
   "metadata": {},
   "source": [
    "We can see from the above graph that the root is between 0.55 and 0.60\n",
    "\n",
    "Now we will call the Newton-Raphson function to determine the roots with a bit more accuracy..."
   ]
  },
  {
   "cell_type": "code",
   "execution_count": null,
   "metadata": {
    "collapsed": false
   },
   "outputs": [],
   "source": [
    "x0 = 1.0 # this is our initial guess for the first root\n",
    "es = 0.01 # this is our stopping criteria in percent\n",
    "imax = 10000 # maximum number of iterations permitted\n",
    "rootNR = nr(x0, es, imax)\n",
    "print(rootNR)"
   ]
  },
  {
   "cell_type": "markdown",
   "metadata": {},
   "source": [
    "As shown above, it took 4 iterations to converge to a solution that met our stopping criterion.\n",
    "Let's see what happens if we use simple fixed point iteration..."
   ]
  },
  {
   "cell_type": "code",
   "execution_count": null,
   "metadata": {
    "collapsed": false
   },
   "outputs": [],
   "source": [
    "x0 = 1.9 # this is our initial guess for the second root\n",
    "es = 0.01 # this is our stopping criteria in percent\n",
    "imax = 10000 # maximum number of iterations permitted\n",
    "rootSFPI = fixpt(x0, es, imax)\n",
    "print(rootSFPI)"
   ]
  },
  {
   "cell_type": "markdown",
   "metadata": {},
   "source": [
    "Simple fixed point iteration took 19 iterations to converge to a solution at the same level of precision.\n",
    "Imagine how much time this would save across **millions or billions** of root estimations..."
   ]
  },
  {
   "cell_type": "code",
   "execution_count": null,
   "metadata": {
    "collapsed": false
   },
   "outputs": [],
   "source": [
    "plt.plot([x for x in range(0,rootNR[0])],rootNR[1],color='red',linewidth=2,marker='o')\n",
    "plt.plot([x for x in range(0,rootSFPI[0])],rootSFPI[1],color='blue',linewidth=2,marker='o')"
   ]
  }
 ],
 "metadata": {
  "kernelspec": {
   "display_name": "Python 3",
   "language": "python",
   "name": "python3"
  },
  "language_info": {
   "codemirror_mode": {
    "name": "ipython",
    "version": 3
   },
   "file_extension": ".py",
   "mimetype": "text/x-python",
   "name": "python",
   "nbconvert_exporter": "python",
   "pygments_lexer": "ipython3",
   "version": "3.5.4"
  }
 },
 "nbformat": 4,
 "nbformat_minor": 0
}
