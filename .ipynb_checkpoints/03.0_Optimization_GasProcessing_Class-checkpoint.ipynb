{
 "cells": [
  {
   "cell_type": "code",
   "execution_count": 1,
   "metadata": {
    "collapsed": true
   },
   "outputs": [],
   "source": [
    "import numpy as np"
   ]
  },
  {
   "cell_type": "markdown",
   "metadata": {},
   "source": [
    "Gas Processing Problem\n",
    "\n",
    "Random Brute Force"
   ]
  },
  {
   "cell_type": "code",
   "execution_count": 3,
   "metadata": {
    "collapsed": true
   },
   "outputs": [],
   "source": [
    "# constraints\n",
    "maxTotal = 77 # m3/week\n",
    "maxTime = 80 # hr/week\n",
    "uProfitReg = 150 # $/tonne\n",
    "uProfitPrem = 175 # $/tonne\n",
    "rawReg = 7 # m3/tonne\n",
    "rawPrem = 11 # $/tonne\n",
    "timeReg = 10 # hr/tonne\n",
    "timePrem = 8 # hr/tonne\n",
    "maxReg = 9 # tonnes\n",
    "maxPrem = 6 # tonnes\n",
    "n = 3000 # max iterations"
   ]
  },
  {
   "cell_type": "code",
   "execution_count": 4,
   "metadata": {},
   "outputs": [
    {
     "name": "stdout",
     "output_type": "stream",
     "text": [
      "The optimum amount of regular gas production is 4.827612304512028 per week\n",
      "The optimum amount of premium gas production is 3.859731071534639 per week\n",
      "The total profit is 1,399.59 per week\n",
      "This required 3000 attempts to solve\n"
     ]
    }
   ],
   "source": [
    "attempts = 0\n",
    "maxProfit = -1e9\n",
    "for j in range(n):\n",
    "    r = maxReg * np.random.ranf()\n",
    "    p = maxPrem * np.random.ranf()\n",
    "    if ((r*rawReg + p*rawPrem) <= maxTotal) and \\\n",
    "       ((r*timeReg + p*timePrem) <= maxTime):\n",
    "            totalProfit = r*uProfitReg + p*uProfitPrem\n",
    "            if totalProfit > maxProfit:\n",
    "                maxProfit = totalProfit\n",
    "                optR = r\n",
    "                optP = p\n",
    "    attempts = attempts + 1\n",
    "    \n",
    "print(\"The optimum amount of regular gas production is {} per week\\n\"\n",
    "      \"The optimum amount of premium gas production is {} per week\\n\"\n",
    "      \"The total profit is {:,.2f} per week\\n\"\n",
    "      \"This required {} attempts to solve\"\n",
    "     \"\".format(optR,optP,uProfitReg * optR + uProfitPrem * optP, attempts))"
   ]
  },
  {
   "cell_type": "markdown",
   "metadata": {},
   "source": [
    "Linear Programming"
   ]
  },
  {
   "cell_type": "code",
   "execution_count": 5,
   "metadata": {
    "collapsed": true
   },
   "outputs": [],
   "source": [
    "from scipy.optimize import linprog\n",
    "# IMPORTANT NOTE: linprog MINIMIZES the objective function"
   ]
  },
  {
   "cell_type": "code",
   "execution_count": 10,
   "metadata": {},
   "outputs": [
    {
     "name": "stdout",
     "output_type": "stream",
     "text": [
      "Optimization terminated successfully.\n",
      "         Current function value: -1413.888889\n",
      "         Iterations: 3\n",
      "The optimum amount of regular gas production is 4.888888888888889 per week\n",
      "The optimum amount of premium gas production is 3.888888888888889 per week\n",
      "The total profit is 1,413.89 per week\n",
      "\n"
     ]
    }
   ],
   "source": [
    "c = [-1*uProfitReg, -1*uProfitPrem]\n",
    "A = [[rawReg, rawPrem],\n",
    "     [timeReg, timePrem],\n",
    "     [1, 0],\n",
    "     [0, 1]]\n",
    "b = [maxTotal, maxTime, maxReg, maxPrem]\n",
    "x1_bounds = (0, None) # enforce positivity\n",
    "x2_bounds = (0, None) # enforce positivity\n",
    "\n",
    "result = linprog(c, A_ub=A, b_ub=b, bounds=(x1_bounds, x2_bounds), options={\"disp\": True})\n",
    "print(\"The optimum amount of regular gas production is {} per week\\n\"\n",
    "      \"The optimum amount of premium gas production is {} per week\\n\"\n",
    "      \"The total profit is {:,.2f} per week\\n\"\n",
    "     \"\".format(result.x[0],result.x[1],result.fun*(-1)))"
   ]
  },
  {
   "cell_type": "code",
   "execution_count": 7,
   "metadata": {},
   "outputs": [
    {
     "name": "stdout",
     "output_type": "stream",
     "text": [
      "Optimization terminated successfully.\n",
      "         Current function value: -1413.888889\n",
      "         Iterations: 3\n",
      "     fun: -1413.8888888888889\n",
      " message: 'Optimization terminated successfully.'\n",
      "     nit: 3\n",
      "   slack: array([ 0.        ,  0.        ,  4.11111111,  2.11111111])\n",
      "  status: 0\n",
      " success: True\n",
      "       x: array([ 4.88888889,  3.88888889])\n"
     ]
    }
   ],
   "source": [
    "# try implementing xbounds here\n",
    "c = [-1*uProfitReg, -1*uProfitPrem]\n",
    "A = [[rawReg, rawPrem],\n",
    "     [timeReg, timePrem],\n",
    "     [1, 0],\n",
    "     [0, 1]]\n",
    "b = [maxTotal, maxTime, maxReg, maxPrem]\n",
    "x1_bounds = (0, None) # enforce positivity\n",
    "x2_bounds = (0, None) # enforce positivity\n",
    "\n",
    "result = linprog(c, A_ub=A, b_ub=b, bounds=(x1_bounds, x2_bounds), options={\"disp\": True})\n",
    "print(\"The optimum amount of regular gas production is {} per week\\n\"\n",
    "      \"The optimum amount of premium gas production is {} per week\\n\"\n",
    "      \"The total profit is {:,.2f} per week\\n\"\n",
    "     \"\".format(result.x[0],result.x[1],result.fun*(-1)))"
   ]
  }
 ],
 "metadata": {
  "kernelspec": {
   "display_name": "Python 3",
   "language": "python",
   "name": "python3"
  },
  "language_info": {
   "codemirror_mode": {
    "name": "ipython",
    "version": 3
   },
   "file_extension": ".py",
   "mimetype": "text/x-python",
   "name": "python",
   "nbconvert_exporter": "python",
   "pygments_lexer": "ipython3",
   "version": "3.5.4"
  }
 },
 "nbformat": 4,
 "nbformat_minor": 1
}
