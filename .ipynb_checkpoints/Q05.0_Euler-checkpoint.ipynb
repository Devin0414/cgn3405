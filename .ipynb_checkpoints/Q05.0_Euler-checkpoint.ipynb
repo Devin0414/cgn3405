{
 "cells": [
  {
   "cell_type": "code",
   "execution_count": 1,
   "metadata": {
    "collapsed": true
   },
   "outputs": [],
   "source": [
    "import numpy as np\n",
    "import matplotlib.pyplot as plt"
   ]
  },
  {
   "cell_type": "code",
   "execution_count": 22,
   "metadata": {
    "collapsed": true
   },
   "outputs": [],
   "source": [
    "def eulerTank(Hi,C,A,g,r,dt):\n",
    "    return Hi - (C*A*np.sqrt(2*g*Hi)*dt) / (2*np.pi*r*Hi - np.pi*Hi**2)"
   ]
  },
  {
   "cell_type": "code",
   "execution_count": 32,
   "metadata": {
    "collapsed": true
   },
   "outputs": [],
   "source": [
    "# parameters\n",
    "C = 0.55\n",
    "r = 3 # m\n",
    "g = 9.81 # m/s2\n",
    "H = [[0,2.75]]\n",
    "dt = 6 # s\n",
    "A = np.pi*r**2"
   ]
  },
  {
   "cell_type": "code",
   "execution_count": 34,
   "metadata": {},
   "outputs": [
    {
     "name": "stdout",
     "output_type": "stream",
     "text": [
      "[6, -21.659351588487851]\n",
      "[12, nan]\n",
      "[18, nan]\n",
      "[24, nan]\n",
      "[30, nan]\n",
      "[36, nan]\n",
      "[42, nan]\n",
      "[48, nan]\n",
      "[54, nan]\n",
      "[60, nan]\n",
      "[66, nan]\n",
      "[72, nan]\n",
      "[78, nan]\n",
      "[84, nan]\n",
      "[90, nan]\n",
      "[96, nan]\n",
      "[102, nan]\n",
      "[108, nan]\n",
      "[114, nan]\n"
     ]
    },
    {
     "name": "stderr",
     "output_type": "stream",
     "text": [
      "C:\\Anaconda3\\lib\\site-packages\\ipykernel\\__main__.py:2: RuntimeWarning: invalid value encountered in sqrt\n",
      "  from ipykernel import kernelapp as app\n"
     ]
    }
   ],
   "source": [
    "for i in range(1,20):\n",
    "    t = i*dt\n",
    "    H.append([t,eulerTank(H[i-1][1],C,A,g,r,dt)])\n",
    "    print(H[i])\n",
    "#     if Hip1 <= 0:\n",
    "#         print(H[i])\n",
    "#         break"
   ]
  },
  {
   "cell_type": "code",
   "execution_count": null,
   "metadata": {
    "collapsed": true
   },
   "outputs": [],
   "source": []
  }
 ],
 "metadata": {
  "kernelspec": {
   "display_name": "Python 3",
   "language": "python",
   "name": "python3"
  },
  "language_info": {
   "codemirror_mode": {
    "name": "ipython",
    "version": 3
   },
   "file_extension": ".py",
   "mimetype": "text/x-python",
   "name": "python",
   "nbconvert_exporter": "python",
   "pygments_lexer": "ipython3",
   "version": "3.5.4"
  }
 },
 "nbformat": 4,
 "nbformat_minor": 1
}
