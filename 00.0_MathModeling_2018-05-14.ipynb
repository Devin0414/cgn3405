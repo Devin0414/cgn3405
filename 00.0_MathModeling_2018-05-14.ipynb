{
 "cells": [
  {
   "cell_type": "code",
   "execution_count": 1,
   "metadata": {
    "collapsed": true
   },
   "outputs": [],
   "source": [
    "import numpy as np\n",
    "import matplotlib.pyplot as plt\n",
    "%matplotlib inline"
   ]
  },
  {
   "cell_type": "code",
   "execution_count": 2,
   "metadata": {},
   "outputs": [
    {
     "name": "stdout",
     "output_type": "stream",
     "text": [
      "Hello Class!\n"
     ]
    }
   ],
   "source": [
    "print('Hello Class!')"
   ]
  },
  {
   "cell_type": "code",
   "execution_count": 35,
   "metadata": {
    "collapsed": true
   },
   "outputs": [],
   "source": [
    "def analytical(g,m,c,t):\n",
    "    return (g*m/c)*(1-np.exp((-1)*(c/m*t)))\n",
    "\n",
    "def numerical(g, m, c, t_step, vi):\n",
    "    return vi+(g-c/m*vi)*(t_step)"
   ]
  },
  {
   "cell_type": "code",
   "execution_count": 14,
   "metadata": {},
   "outputs": [],
   "source": [
    "g = 9.81 #m/s2\n",
    "m = 68.1 #kg\n",
    "c = 12.5 #kg/s\n",
    "t_start = 0 #s\n",
    "t_end = 50 #sec\n",
    "t_step = 2 #s"
   ]
  },
  {
   "cell_type": "code",
   "execution_count": 15,
   "metadata": {},
   "outputs": [
    {
     "name": "stdout",
     "output_type": "stream",
     "text": [
      "2\n"
     ]
    }
   ],
   "source": [
    "print(t_step)"
   ]
  },
  {
   "cell_type": "code",
   "execution_count": 16,
   "metadata": {},
   "outputs": [
    {
     "name": "stdout",
     "output_type": "stream",
     "text": [
      "[0, 2, 4, 6, 8, 10, 12, 14, 16, 18, 20, 22, 24, 26, 28, 30, 32, 34, 36, 38, 40, 42, 44, 46, 48, 50]\n"
     ]
    }
   ],
   "source": [
    "t_tick = [t for t in range(t_start,t_end+t_step,t_step)]\n",
    "print(t_tick)"
   ]
  },
  {
   "cell_type": "code",
   "execution_count": 17,
   "metadata": {},
   "outputs": [
    {
     "name": "stdout",
     "output_type": "stream",
     "text": [
      "[0.0, 16.42172057920007, 27.797627475567975, 35.678120697377175, 41.137217188295963, 44.918926487237513, 47.538650327160717, 49.35342572499016, 50.610584855421081, 51.481463467240552, 52.084751896020961, 52.502671136843666, 52.792178582234115, 52.992730633322992, 53.131660135262784, 53.227901517011034, 53.294571327465157, 53.340755864150381, 53.372749526863686, 53.394912669059721, 53.41026586185928, 53.420901561754889, 53.428269287396454, 53.43337317164125, 53.436908812848785, 53.43935807661515]\n"
     ]
    }
   ],
   "source": [
    "a_sol = [analytical(g,m,c,t) for t in t_tick]\n",
    "print(a_sol)"
   ]
  },
  {
   "cell_type": "code",
   "execution_count": 18,
   "metadata": {},
   "outputs": [
    {
     "data": {
      "text/plain": [
       "<matplotlib.legend.Legend at 0x276e8eef9b0>"
      ]
     },
     "execution_count": 18,
     "metadata": {},
     "output_type": "execute_result"
    },
    {
     "data": {
      "image/png": "[encoded data removed]",
      "text/plain": [
       "<matplotlib.figure.Figure at 0x276e8eef9e8>"
      ]
     },
     "metadata": {},
     "output_type": "display_data"
    }
   ],
   "source": [
    "plt.plot(t_tick,a_sol,color='blue',linewidth=2,label='analytical')\n",
    "plt.legend(loc=4)"
   ]
  },
  {
   "cell_type": "code",
   "execution_count": 47,
   "metadata": {},
   "outputs": [
    {
     "name": "stdout",
     "output_type": "stream",
     "text": [
      "50 53.44430302092583\n",
      "26 26\n"
     ]
    }
   ],
   "source": [
    "n_sol = [0]\n",
    "for i in range(len(t_tick)):\n",
    "    if i == 25: break\n",
    "    n_sol.append(numerical(g,m,c,t_step,n_sol[i]))\n",
    "print(t_tick[i],n_sol[i])\n",
    "print(len(t_tick),len(n_sol))"
   ]
  },
  {
   "cell_type": "code",
   "execution_count": null,
   "metadata": {},
   "outputs": [],
   "source": [
    "plt.plot(t_tick,a_sol,color='black',linewidth=2,label='analytical')\n",
    "plt.plot(t_tick,n_sol,color='gold',linewidth=2,label='numerical')\n",
    "plt.legend(loc=4)"
   ]
  }
 ],
 "metadata": {
  "kernelspec": {
   "display_name": "Python 3",
   "language": "python",
   "name": "python3"
  },
  "language_info": {
   "codemirror_mode": {
    "name": "ipython",
    "version": 3
   },
   "file_extension": ".py",
   "mimetype": "text/x-python",
   "name": "python",
   "nbconvert_exporter": "python",
   "pygments_lexer": "ipython3",
   "version": "3.5.4"
  }
 },
 "nbformat": 4,
 "nbformat_minor": 1
}
