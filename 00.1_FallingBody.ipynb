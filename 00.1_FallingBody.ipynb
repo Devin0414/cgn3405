{
 "cells": [
  {
   "cell_type": "code",
   "execution_count": 1,
   "metadata": {
    "collapsed": true
   },
   "outputs": [],
   "source": [
    "%matplotlib inline\n",
    "\n",
    "import math\n",
    "import numpy as np\n",
    "import matplotlib.pyplot as plt"
   ]
  },
  {
   "cell_type": "code",
   "execution_count": 2,
   "metadata": {
    "collapsed": true
   },
   "outputs": [],
   "source": [
    "# define a FUNCTION to compute the analytical solution\n",
    "def analytical(g,m,c,t):\n",
    "    return (g*m/c)*(1-math.exp((-1)*(c/m*t)))"
   ]
  },
  {
   "cell_type": "code",
   "execution_count": 3,
   "metadata": {
    "collapsed": false
   },
   "outputs": [],
   "source": [
    "# define a FUNCTION to compute the numerical solution\n",
    "def numerical(g,m,c,t,ti,vi):\n",
    "    return vi+(g-c/m*vi)*(t-ti)"
   ]
  },
  {
   "cell_type": "code",
   "execution_count": 5,
   "metadata": {
    "collapsed": false
   },
   "outputs": [],
   "source": [
    "# define our constants (apply to all cases)\n",
    "g = 9.81\n",
    "m = 68.1\n",
    "c = 12.5\n",
    "t_start = 0\n",
    "t_end = 200"
   ]
  },
  {
   "cell_type": "code",
   "execution_count": 12,
   "metadata": {
    "collapsed": false
   },
   "outputs": [
    {
     "name": "stdout",
     "output_type": "stream",
     "text": [
      "[0, 2, 4, 6, 8, 10, 12, 14, 16, 18, 20, 22, 24, 26, 28, 30, 32, 34, 36, 38, 40, 42, 44, 46, 48, 50, 52, 54, 56, 58, 60, 62, 64, 66, 68, 70, 72, 74, 76, 78, 80, 82, 84, 86, 88, 90, 92, 94, 96, 98, 100, 102, 104, 106, 108, 110, 112, 114, 116, 118, 120, 122, 124, 126, 128, 130, 132, 134, 136, 138, 140, 142, 144, 146, 148, 150, 152, 154, 156, 158, 160, 162, 164, 166, 168, 170, 172, 174, 176, 178, 180, 182, 184, 186, 188, 190, 192, 194, 196, 198]\n"
     ]
    }
   ],
   "source": [
    "t_step = 2\n",
    "\n",
    "# compute a LIST of time values at which we will compute solutions\n",
    "t_tick_10 = [t for t in range(t_start, t_end, t_step)]\n",
    "print(t_tick_10)"
   ]
  },
  {
   "cell_type": "code",
   "execution_count": 13,
   "metadata": {
    "collapsed": false
   },
   "outputs": [
    {
     "name": "stdout",
     "output_type": "stream",
     "text": [
      "[0.0, 16.42172057920007, 27.797627475567975, 35.678120697377175, 41.13721718829596, 44.91892648723751, 47.53865032716072, 49.35342572499016, 50.61058485542108, 51.48146346724055, 52.08475189602096, 52.50267113684367, 52.792178582234115, 52.99273063332299, 53.131660135262784, 53.227901517011034, 53.29457132746516, 53.34075586415038, 53.372749526863686, 53.39491266905972, 53.41026586185928, 53.42090156175489, 53.42826928739645, 53.43337317164125, 53.436908812848785, 53.43935807661515, 53.441054768288616, 53.44223012664502, 53.4430443389663, 53.4436083726506, 53.44399909874097, 53.44426976852886, 53.44445727106807, 53.44458716071139, 53.444677139863224, 53.44473947160544, 53.44478265100875, 53.444812562909256, 53.4448332839411, 53.44484763813304, 53.44485758178969, 53.44486447011249, 53.44486924189742, 53.44487254748169, 53.444874837376865, 53.44487642366828, 53.444877522548474, 53.44487828378167, 53.44487881111483, 53.444879176417174, 53.44487942947503, 53.444879604777164, 53.444879726215156, 53.44487981033954, 53.444879868615494, 53.4448799089853, 53.44487993695089, 53.444879956323646, 53.444879969743845, 53.44487997904049, 53.444879985480604, 53.444879989941896, 53.444879993032394, 53.44487999517329, 53.44487999665636, 53.44487999768374, 53.44487999839544, 53.44487999888847, 53.44487999923, 53.444879999466586, 53.44487999963048, 53.444879999744025, 53.444879999822675, 53.44487999987715, 53.444879999914896, 53.444879999941044, 53.444879999959156, 53.444879999971704, 53.444879999980394, 53.44487999998641, 53.44487999999058, 53.444879999993475, 53.44487999999548, 53.444879999996864, 53.44487999999782, 53.44487999999849, 53.44487999999895, 53.44487999999927, 53.44487999999949, 53.44487999999965, 53.444879999999756, 53.44487999999983, 53.44487999999988, 53.44487999999991, 53.444879999999934, 53.444879999999955, 53.44487999999997, 53.44487999999997, 53.444879999999976, 53.44487999999998]\n"
     ]
    }
   ],
   "source": [
    "# compute an anlytical solution using a list generator\n",
    "a_sol_10 = [analytical(g,m,c,t) for t in t_tick_10]\n",
    "print(a_sol_10)"
   ]
  },
  {
   "cell_type": "code",
   "execution_count": 14,
   "metadata": {
    "collapsed": false
   },
   "outputs": [
    {
     "data": {
      "text/plain": [
       "<matplotlib.legend.Legend at 0x138e36c7198>"
      ]
     },
     "execution_count": 14,
     "metadata": {},
     "output_type": "execute_result"
    },
    {
     "data": {
      "image/png": "[encoded data removed]",
      "text/plain": [
       "<matplotlib.figure.Figure at 0x138e36c7320>"
      ]
     },
     "metadata": {},
     "output_type": "display_data"
    }
   ],
   "source": [
    "# just a label for the plot legend\n",
    "a_label_10 = 'a ' + str(t_step)\n",
    "\n",
    "# create the plot\n",
    "plt.plot(t_tick_10, a_sol_10, color='blue', linewidth=2, label=a_label_10)\n",
    "plt.legend(loc=4)"
   ]
  },
  {
   "cell_type": "code",
   "execution_count": 17,
   "metadata": {
    "collapsed": false
   },
   "outputs": [],
   "source": [
    "snaps = int((t_end - t_start) / t_step)\n",
    "n_sol_10 = np.zeros(snaps)\n",
    "\n",
    "#compute the numerical solution using a for loop\n",
    "for i in range(snaps):\n",
    "    if i == 0:\n",
    "        ti = t_tick_10[0]\n",
    "        vi = 0\n",
    "    else:\n",
    "        ti = t_tick_10[i-1]\n",
    "        vi = n_sol_10[i-1]\n",
    "    \n",
    "    t = t_tick_10[i]   \n",
    "    n_sol_10[i] = numerical(g,m,c,t,ti,vi)\n",
    "    \n",
    "\n",
    "n_label_10 = 'n ' + str(t_step)"
   ]
  },
  {
   "cell_type": "code",
   "execution_count": 18,
   "metadata": {
    "collapsed": false
   },
   "outputs": [
    {
     "name": "stdout",
     "output_type": "stream",
     "text": [
      "n 2\n"
     ]
    }
   ],
   "source": [
    "print(n_label_10)"
   ]
  },
  {
   "cell_type": "code",
   "execution_count": 19,
   "metadata": {
    "collapsed": false
   },
   "outputs": [
    {
     "data": {
      "text/plain": [
       "<matplotlib.legend.Legend at 0x138e37d0cf8>"
      ]
     },
     "execution_count": 19,
     "metadata": {},
     "output_type": "execute_result"
    },
    {
     "data": {
      "image/png": "[encoded data removed]",
      "text/plain": [
       "<matplotlib.figure.Figure at 0x138e37983c8>"
      ]
     },
     "metadata": {},
     "output_type": "display_data"
    }
   ],
   "source": [
    "# create a plot with all solutions\n",
    "\n",
    "plt.plot(t_tick_10, a_sol_10, color='blue', linewidth=2, label=a_label_10)\n",
    "plt.plot(t_tick_10, n_sol_10, color='red', linewidth=2, label=n_label_10)\n",
    "plt.legend(loc=4)"
   ]
  },
  {
   "cell_type": "code",
   "execution_count": null,
   "metadata": {
    "collapsed": true
   },
   "outputs": [],
   "source": []
  }
 ],
 "metadata": {
  "kernelspec": {
   "display_name": "Python 3",
   "language": "python",
   "name": "python3"
  },
  "language_info": {
   "codemirror_mode": {
    "name": "ipython",
    "version": 3
   },
   "file_extension": ".py",
   "mimetype": "text/x-python",
   "name": "python",
   "nbconvert_exporter": "python",
   "pygments_lexer": "ipython3",
   "version": "3.5.4"
  }
 },
 "nbformat": 4,
 "nbformat_minor": 2
}
