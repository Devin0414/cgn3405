{
 "cells": [
  {
   "cell_type": "code",
   "execution_count": 13,
   "metadata": {
    "collapsed": false
   },
   "outputs": [],
   "source": [
    "%matplotlib inline\n",
    "\n",
    "import math\n",
    "import matplotlib.pyplot as plt\n",
    "import numpy as np"
   ]
  },
  {
   "cell_type": "code",
   "execution_count": 46,
   "metadata": {
    "collapsed": true
   },
   "outputs": [],
   "source": [
    "def f(x):\n",
    "    return 2*x**3 - 11.7*x**2 + 17.7*x - 5"
   ]
  },
  {
   "cell_type": "code",
   "execution_count": 47,
   "metadata": {
    "collapsed": true
   },
   "outputs": [],
   "source": [
    "def g(x):\n",
    "    return (5.0 - 2.0*x**3 + 11.7*x**2) / 17.7"
   ]
  },
  {
   "cell_type": "code",
   "execution_count": 101,
   "metadata": {
    "collapsed": false
   },
   "outputs": [],
   "source": [
    "def fixpt(x0, es, imax):\n",
    "    xr = x0\n",
    "    #itr = 0\n",
    "    ea = 1\n",
    "    xlist = [xr]\n",
    "    for itr in range(0,imax):\n",
    "    #while ea > es or itr <= imax:\n",
    "        xrold = xr\n",
    "        xr = g(xrold)\n",
    "        xlist.append(xr)\n",
    "        if xr != 0:\n",
    "            ea = abs((xr - xrold)/xr) * 100\n",
    "        if ea < es: break            \n",
    "    return [xr, ea, itr, xlist]"
   ]
  },
  {
   "cell_type": "code",
   "execution_count": 112,
   "metadata": {
    "collapsed": false
   },
   "outputs": [
    {
     "data": {
      "image/png": "[encoded data removed]",
      "text/plain": [
       "<matplotlib.figure.Figure at 0x23247beafd0>"
      ]
     },
     "metadata": {},
     "output_type": "display_data"
    }
   ],
   "source": [
    "x = np.array(np.arange(0,5,0.2))\n",
    "\n",
    "fig, (ax1, ax2) = plt.subplots(nrows=2, figsize=(7,9.6))\n",
    "\n",
    "ax1 = plt.subplot(211, sharex=ax2)\n",
    "plt.plot(x,x,color='blue')\n",
    "plt.plot(x,g(x),color='green')\n",
    "plt.setp(ax1.get_xticklabels(),visible=False)\n",
    "plt.ylim(0,5)\n",
    "plt.xlim(0,5)\n",
    "plt.grid()\n",
    "\n",
    "ax2 = plt.subplot(212, sharex=ax1)\n",
    "plt.plot(x,f(x),color='red')\n",
    "plt.plot(x,[0 for y in x],color='black')\n",
    "plt.xticks(x, rotation=90)\n",
    "plt.ylim(-2,3)\n",
    "plt.xlim(0,5)\n",
    "plt.grid()\n",
    "\n",
    "plt.show()"
   ]
  },
  {
   "cell_type": "markdown",
   "metadata": {},
   "source": [
    "We can see from the above graph that the roots are approximately 0.40, 1.9 and 3.6\n",
    "\n",
    "Now we will call the simple fixed point iteration function to determine the roots with a bit more accuracy..."
   ]
  },
  {
   "cell_type": "code",
   "execution_count": 117,
   "metadata": {
    "collapsed": false
   },
   "outputs": [
    {
     "name": "stdout",
     "output_type": "stream",
     "text": [
      "[0.3651203602334865, 0.007787664943438302, 8, [0.4, 0.38101694915254236, 0.3721981563301338, 0.3682314043493383, 0.36647423091355763, 0.36570123683428946, 0.36536224044238946, 0.3652137760740256, 0.36514879458378174, 0.3651203602334865]]\n"
     ]
    }
   ],
   "source": [
    "x0 = 0.40 # this is our initial guess for the first root\n",
    "es = 0.01 # this is our stopping criteria in percent\n",
    "imax = 10000 # maximum number of iterations permitted\n",
    "root1 = fixpt(x0, es, imax)\n",
    "print(root1)"
   ]
  },
  {
   "cell_type": "code",
   "execution_count": 118,
   "metadata": {
    "collapsed": false
   },
   "outputs": [
    {
     "name": "stdout",
     "output_type": "stream",
     "text": [
      "[0.36511750884157695, 0.006783798784355926, 29, [1.9, 1.893728813559322, 1.8856513695339001, 1.8752496552890172, 1.861859109467192, 1.8446291007524391, 1.822474734769543, 1.7940202758368864, 1.757537427401511, 1.710888403532114, 1.6514977982744472, 1.5764049428227345, 1.4824981093583292, 1.3671071716406569, 1.2292029478184003, 1.0713837938450503, 0.9022822430592378, 0.7376274083714813, 0.5967923437883442, 0.4938969746658682, 0.4301171550518768, 0.3957833314965542, 0.37902516899692956, 0.37129499152191964, 0.36782984317548606, 0.36629728905619025, 0.3656235823951628, 0.3653282205748944, 0.36519888379905574, 0.3651422776787032, 0.36511750884157695]]\n"
     ]
    }
   ],
   "source": [
    "x0 = 1.9 # this is our initial guess for the second root\n",
    "es = 0.01 # this is our stopping criteria in percent\n",
    "imax = 10000 # maximum number of iterations permitted\n",
    "root2 = fixpt(x0, es, imax)\n",
    "print(root2)"
   ]
  },
  {
   "cell_type": "code",
   "execution_count": 119,
   "metadata": {
    "collapsed": false
   },
   "outputs": [
    {
     "name": "stdout",
     "output_type": "stream",
     "text": [
      "[3.5633145842099214, 0.006296321617449609, 5, [3.6, 3.5774011299435027, 3.5688432986744503, 3.5654550700087073, 3.5640913624593096, 3.5635389419563848, 3.5633145842099214]]\n"
     ]
    }
   ],
   "source": [
    "x0 = 3.6 # this is our initial guess for the third root\n",
    "es = 0.01 # this is our stopping criteria in percent\n",
    "imax = 10000 # maximum number of iterations permitted\n",
    "root3 = fixpt(x0, es, imax)\n",
    "print(root3)"
   ]
  },
  {
   "cell_type": "markdown",
   "metadata": {},
   "source": [
    "Notice that our guess for the second root converged to the first root. We can play around with the initial guess..."
   ]
  },
  {
   "cell_type": "code",
   "execution_count": 120,
   "metadata": {
    "collapsed": true
   },
   "outputs": [],
   "source": [
    "def g2(x):\n",
    "    return ((2.0*x**3 + 17.7*x - 5) / 11.7)**0.5\n",
    "\n",
    "def fixpt2(x0, es, imax):\n",
    "    xr = x0\n",
    "    #itr = 0\n",
    "    ea = 1\n",
    "    xlist = [xr]\n",
    "    for itr in range(0,imax):\n",
    "    #while ea > es or itr <= imax:\n",
    "        xrold = xr\n",
    "        xr = g2(xrold)\n",
    "        xlist.append(xr)\n",
    "        if xr != 0:\n",
    "            ea = abs((xr - xrold)/xr) * 100\n",
    "        if ea < es: break            \n",
    "    return [xr, ea, itr, xlist]"
   ]
  },
  {
   "cell_type": "code",
   "execution_count": 137,
   "metadata": {
    "collapsed": false
   },
   "outputs": [
    {
     "name": "stdout",
     "output_type": "stream",
     "text": [
      "[1.9231112181652446, 0.009128036624759904, 84, [3.5, 3.4923604047379184, 3.483839291583323, 3.4743457785380727, 3.4637823572499817, 3.4520451269832853, 3.4390242614256894, 3.424604763221345, 3.4086675658630856, 3.3910910450996066, 3.371753001030527, 3.3505331660140167, 3.3273162806211345, 3.301995758283644, 3.274477927307806, 3.244686795406661, 3.212569226702972, 3.178100355754838, 3.1412889912602533, 3.1021826901186316, 3.0608721197437783, 3.0174942846570376, 2.972234185394483, 2.925324515704072, 2.877043096181659, 2.8277078902378383, 2.77766964332024, 2.72730240961499, 2.676992453587469, 2.627126203049443, 2.5780780536308128, 2.5301988579905035, 2.4838058680936013, 2.439174744383541, 2.3965340267486743, 2.356062214243006, 2.317887361256817, 2.282088899200516, 2.24870125533808, 2.2177187712732565, 2.1891014177111536, 2.162780846025518, 2.138666393511328, 2.1166507508138586, 2.096615092660535, 2.078433556690543, 2.0619770242211106, 2.0471162091840767, 2.0337240977823723, 2.0216778037744443, 2.0108599155051805, 2.001159413754716, 1.9924722367758039, 1.9847015626809528, 1.9777578712660033, 1.9715588385967058, 1.9660291090291522, 1.9610999812690875, 1.9567090378608056, 1.952799741239509, 1.949321014185909, 1.9462268181311375, 1.9434757391833462, 1.9410305888805093, 1.9388580244112323, 1.9369281912869492, 1.9352143901046126, 1.9336927680300215, 1.9323420348910016, 1.9311432032403872, 1.9300793513846384, 1.929135408137078, 1.9282979579146318, 1.9275550647293052, 1.9268961136111868, 1.9263116680235637, 1.9257933418810942, 1.9253336848500278, 1.9249260796884062, 1.9245646504689964, 1.9242441806146577, 1.9239600397622751, 1.9237081185553857, 1.9234847705459541, 1.9232867604615735, 1.9231112181652446]]\n"
     ]
    }
   ],
   "source": [
    "x0 = 3.5 # this is our initial guess for the second root\n",
    "es = 0.01 # this is our stopping criteria in percent\n",
    "imax = 10000 # maximum number of iterations permitted\n",
    "root2 = fixpt2(x0, es, imax)\n",
    "print(root2)"
   ]
  },
  {
   "cell_type": "code",
   "execution_count": 138,
   "metadata": {
    "collapsed": false
   },
   "outputs": [
    {
     "data": {
      "image/png": "[encoded data removed]",
      "text/plain": [
       "<matplotlib.figure.Figure at 0x232492753c8>"
      ]
     },
     "metadata": {},
     "output_type": "display_data"
    }
   ],
   "source": [
    "x = np.array(np.arange(0.3,5,0.2))\n",
    "\n",
    "plt.plot(x,x,color='blue')\n",
    "plt.plot(x,g2(x),color='green')\n",
    "plt.xticks(x, rotation=90)\n",
    "plt.ylim(0,5)\n",
    "plt.xlim(0,5)\n",
    "plt.grid()\n",
    "\n",
    "plt.show()"
   ]
  }
 ],
 "metadata": {
  "kernelspec": {
   "display_name": "Python 3",
   "language": "python",
   "name": "python3"
  },
  "language_info": {
   "codemirror_mode": {
    "name": "ipython",
    "version": 3
   },
   "file_extension": ".py",
   "mimetype": "text/x-python",
   "name": "python",
   "nbconvert_exporter": "python",
   "pygments_lexer": "ipython3",
   "version": "3.5.4"
  }
 },
 "nbformat": 4,
 "nbformat_minor": 0
}
