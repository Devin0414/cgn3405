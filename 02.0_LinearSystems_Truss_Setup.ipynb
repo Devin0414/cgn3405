{
 "cells": [
  {
   "cell_type": "code",
   "execution_count": 1,
   "metadata": {
    "collapsed": true
   },
   "outputs": [],
   "source": [
    "import numpy as np\n",
    "from math import cos, sin, radians"
   ]
  },
  {
   "cell_type": "code",
   "execution_count": 2,
   "metadata": {
    "collapsed": true
   },
   "outputs": [],
   "source": [
    "def gaussSeidel(a,b):\n",
    "    # inset gauss seidel function here\n",
    "    return np.zeros([12,1]) # delete this when function is defined"
   ]
  },
  {
   "cell_type": "code",
   "execution_count": 4,
   "metadata": {},
   "outputs": [
    {
     "name": "stdout",
     "output_type": "stream",
     "text": [
      "12 12\n"
     ]
    }
   ],
   "source": [
    "b = np.array([0, 0, 0, 3500, 0, 0, 0, 0, 0, 0, 0, 0])\n",
    "xNames = ['Ax', 'Ay','AB', 'BC', 'CD', 'BD', 'DE', 'BE', 'EF', 'BF', 'AF', 'Cy']\n",
    "print(len(b), len(xNames))"
   ]
  },
  {
   "cell_type": "code",
   "execution_count": 5,
   "metadata": {},
   "outputs": [
    {
     "name": "stdout",
     "output_type": "stream",
     "text": [
      "45 degrees = 0.7853981633974483 radians\n",
      "60 degrees = 1.0471975511965976 radians\n"
     ]
    }
   ],
   "source": [
    "r45 = radians(45)\n",
    "r60 = radians(60)\n",
    "print(\"45 degrees = {0} radians\".format(r45))\n",
    "print(\"60 degrees = {0} radians\".format(r60))"
   ]
  },
  {
   "cell_type": "code",
   "execution_count": 26,
   "metadata": {},
   "outputs": [
    {
     "ename": "TypeError",
     "evalue": "list indices must be integers or slices, not tuple",
     "output_type": "error",
     "traceback": [
      "\u001b[1;31m---------------------------------------------------------------------------\u001b[0m",
      "\u001b[1;31mTypeError\u001b[0m                                 Traceback (most recent call last)",
      "\u001b[1;32m<ipython-input-26-a0233e903a0c>\u001b[0m in \u001b[0;36m<module>\u001b[1;34m()\u001b[0m\n\u001b[0;32m      1\u001b[0m a = np.array([[1., 0., 1., 0., 0., 0., 0., 0., 0., 0., cos(r60), 0.]\n\u001b[1;32m----> 2\u001b[1;33m               \u001b[1;33m[\u001b[0m\u001b[1;36m0\u001b[0m\u001b[1;33m,\u001b[0m \u001b[1;36m1\u001b[0m\u001b[1;33m,\u001b[0m \u001b[1;36m0\u001b[0m\u001b[1;33m,\u001b[0m \u001b[1;36m0\u001b[0m\u001b[1;33m,\u001b[0m \u001b[1;36m0\u001b[0m\u001b[1;33m,\u001b[0m \u001b[1;36m0\u001b[0m\u001b[1;33m,\u001b[0m \u001b[1;36m0\u001b[0m\u001b[1;33m,\u001b[0m \u001b[1;36m0\u001b[0m\u001b[1;33m,\u001b[0m \u001b[1;36m0\u001b[0m\u001b[1;33m,\u001b[0m \u001b[1;36m0\u001b[0m\u001b[1;33m,\u001b[0m \u001b[0msin\u001b[0m\u001b[1;33m(\u001b[0m\u001b[0mr60\u001b[0m\u001b[1;33m)\u001b[0m\u001b[1;33m,\u001b[0m \u001b[1;36m0\u001b[0m\u001b[1;33m]\u001b[0m\u001b[1;33m,\u001b[0m\u001b[1;33m\u001b[0m\u001b[0m\n\u001b[0m\u001b[0;32m      3\u001b[0m               \u001b[1;33m[\u001b[0m\u001b[1;36m0\u001b[0m\u001b[1;33m,\u001b[0m \u001b[1;36m0\u001b[0m\u001b[1;33m,\u001b[0m \u001b[1;33m-\u001b[0m\u001b[1;36m1\u001b[0m\u001b[1;33m,\u001b[0m \u001b[1;36m1\u001b[0m\u001b[1;33m,\u001b[0m \u001b[1;36m0\u001b[0m\u001b[1;33m,\u001b[0m \u001b[0mcos\u001b[0m\u001b[1;33m(\u001b[0m\u001b[0mr45\u001b[0m\u001b[1;33m)\u001b[0m\u001b[1;33m,\u001b[0m \u001b[1;36m0\u001b[0m\u001b[1;33m,\u001b[0m \u001b[1;36m0\u001b[0m\u001b[1;33m,\u001b[0m \u001b[1;36m0\u001b[0m\u001b[1;33m,\u001b[0m \u001b[1;33m-\u001b[0m\u001b[0mcos\u001b[0m\u001b[1;33m(\u001b[0m\u001b[0mr60\u001b[0m\u001b[1;33m)\u001b[0m\u001b[1;33m,\u001b[0m \u001b[1;36m0\u001b[0m\u001b[1;33m,\u001b[0m \u001b[1;36m0\u001b[0m\u001b[1;33m]\u001b[0m\u001b[1;33m,\u001b[0m\u001b[1;33m\u001b[0m\u001b[0m\n\u001b[0;32m      4\u001b[0m               \u001b[1;33m[\u001b[0m\u001b[1;36m0\u001b[0m\u001b[1;33m,\u001b[0m \u001b[1;36m0\u001b[0m\u001b[1;33m,\u001b[0m \u001b[1;36m0\u001b[0m\u001b[1;33m,\u001b[0m \u001b[1;36m0\u001b[0m\u001b[1;33m,\u001b[0m \u001b[1;36m0\u001b[0m\u001b[1;33m,\u001b[0m \u001b[0msin\u001b[0m\u001b[1;33m(\u001b[0m\u001b[0mr45\u001b[0m\u001b[1;33m)\u001b[0m\u001b[1;33m,\u001b[0m \u001b[1;36m0\u001b[0m\u001b[1;33m,\u001b[0m \u001b[1;36m1\u001b[0m\u001b[1;33m,\u001b[0m \u001b[1;36m0\u001b[0m\u001b[1;33m,\u001b[0m \u001b[0msin\u001b[0m\u001b[1;33m(\u001b[0m\u001b[0mr60\u001b[0m\u001b[1;33m)\u001b[0m\u001b[1;33m,\u001b[0m \u001b[1;36m0\u001b[0m\u001b[1;33m,\u001b[0m\u001b[1;36m0\u001b[0m\u001b[1;33m]\u001b[0m\u001b[1;33m,\u001b[0m\u001b[1;33m\u001b[0m\u001b[0m\n\u001b[0;32m      5\u001b[0m               \u001b[1;33m[\u001b[0m\u001b[1;36m0\u001b[0m\u001b[1;33m,\u001b[0m \u001b[1;36m0\u001b[0m\u001b[1;33m,\u001b[0m\u001b[1;36m0\u001b[0m\u001b[1;33m,\u001b[0m \u001b[1;33m-\u001b[0m\u001b[1;36m1\u001b[0m\u001b[1;33m,\u001b[0m \u001b[1;33m-\u001b[0m\u001b[0mcos\u001b[0m\u001b[1;33m(\u001b[0m\u001b[0mr45\u001b[0m\u001b[1;33m)\u001b[0m\u001b[1;33m,\u001b[0m \u001b[1;36m0\u001b[0m\u001b[1;33m,\u001b[0m \u001b[1;36m0\u001b[0m\u001b[1;33m,\u001b[0m \u001b[1;36m0\u001b[0m\u001b[1;33m,\u001b[0m \u001b[1;36m0\u001b[0m\u001b[1;33m,\u001b[0m \u001b[1;36m0\u001b[0m\u001b[1;33m,\u001b[0m \u001b[1;36m0\u001b[0m\u001b[1;33m,\u001b[0m \u001b[1;36m0\u001b[0m\u001b[1;33m]\u001b[0m\u001b[1;33m,\u001b[0m\u001b[1;33m\u001b[0m\u001b[0m\n",
      "\u001b[1;31mTypeError\u001b[0m: list indices must be integers or slices, not tuple"
     ]
    }
   ],
   "source": [
    "a = np.array([[1., 0., 1., 0., 0., 0., 0., 0., 0., 0., cos(r60), 0.],\n",
    "              [0, 1, 0, 0, 0, 0, 0, 0, 0, 0, sin(r60), 0],\n",
    "              [0, 0, -1, 1, 0, cos(r45), 0, 0, 0, -cos(r60), 0, 0],\n",
    "              [0, 0, 0, 0, 0, sin(r45), 0, 1, 0, sin(r60), 0,0],\n",
    "              [0, 0,0, -1, -cos(r45), 0, 0, 0, 0, 0, 0, 0],\n",
    "              [0, 0, 0, 0, sin(r45), 0, 0, 0, 0, 0, 0, 1],\n",
    "              [0, 0, 0, 0, cos(r45), -cos(r45), -1, 0, 0, 0, 0, 0],\n",
    "              [0, 0, 0, 0, -sin(r45), -sin(r45), 0, 0, 0, 0, 0, 0],\n",
    "              [0, 0, 0, 0, 0, 0, 1, 0, -1, 0, 0, 0],\n",
    "              [0, 0, 0, 0, 0, 0, 0, -1, 0, 0, 0, 0],\n",
    "              [0, 0, 0, 0, 0, 0, 0, 0, 1, cos(r60), -cos(r60), 0],\n",
    "              [0, 0, 0, 0, 0, 0, 0, 0, 0, -sin(r60), -sin(r60), 0],\n",
    "             ], dtype=np.float64)\n",
    "a.shape"
   ]
  },
  {
   "cell_type": "code",
   "execution_count": 13,
   "metadata": {},
   "outputs": [
    {
     "data": {
      "text/plain": [
       "array([[ 1.0,  0.0,  1.0,  0.0,  0.0,  0.0,  0.0,  0.0,  0.0,  0.0,  0.5,\n",
       "         0.0],\n",
       "       [ 0.0,  1.0,  0.0,  0.0,  0.0,  0.0,  0.0,  0.0,  0.0,  0.0,  0.87,\n",
       "         0.0],\n",
       "       [ 0.0,  0.0, -1.0,  1.0,  0.0,  0.71,  0.0,  0.0,  0.0, -0.5,  0.0,\n",
       "         0.0],\n",
       "       [ 0.0,  0.0,  0.0,  0.0,  0.0,  0.71,  0.0,  1.0,  0.0,  0.87,  0.0,\n",
       "         0.0],\n",
       "       [ 0.0,  0.0,  0.0, -1.0, -0.71,  0.0,  0.0,  0.0,  0.0,  0.0,  0.0,\n",
       "         0.0],\n",
       "       [ 0.0,  0.0,  0.0,  0.0,  0.71,  0.0,  0.0,  0.0,  0.0,  0.0,  0.0,\n",
       "         1.0],\n",
       "       [ 0.0,  0.0,  0.0,  0.0,  0.71, -0.71, -1.0,  0.0,  0.0,  0.0,  0.0,\n",
       "         0.0],\n",
       "       [ 0.0,  0.0,  0.0,  0.0, -0.71, -0.71,  0.0,  0.0,  0.0,  0.0,  0.0,\n",
       "         0.0],\n",
       "       [ 0.0,  0.0,  0.0,  0.0,  0.0,  0.0,  1.0,  0.0, -1.0,  0.0,  0.0,\n",
       "         0.0],\n",
       "       [ 0.0,  0.0,  0.0,  0.0,  0.0,  0.0,  0.0, -1.0,  0.0,  0.0,  0.0,\n",
       "         0.0],\n",
       "       [ 0.0,  0.0,  0.0,  0.0,  0.0,  0.0,  0.0,  0.0,  1.0,  0.5, -0.5,\n",
       "         0.0],\n",
       "       [ 0.0,  0.0,  0.0,  0.0,  0.0,  0.0,  0.0,  0.0,  0.0, -0.87, -0.87,\n",
       "         0.0]])"
      ]
     },
     "execution_count": 13,
     "metadata": {},
     "output_type": "execute_result"
    }
   ],
   "source": [
    "np.set_printoptions(formatter={'float': '{: 0.2}'.format})\n",
    "a"
   ]
  },
  {
   "cell_type": "code",
   "execution_count": 14,
   "metadata": {},
   "outputs": [
    {
     "name": "stdout",
     "output_type": "stream",
     "text": [
      "[[ 0.0]\n",
      " [ 0.0]\n",
      " [ 0.0]\n",
      " [ 0.0]\n",
      " [ 0.0]\n",
      " [ 0.0]\n",
      " [ 0.0]\n",
      " [ 0.0]\n",
      " [ 0.0]\n",
      " [ 0.0]\n",
      " [ 0.0]\n",
      " [ 0.0]]\n"
     ]
    }
   ],
   "source": [
    "xGS = gaussSeidel(a,b)\n",
    "print(xGS)"
   ]
  },
  {
   "cell_type": "code",
   "execution_count": 24,
   "metadata": {},
   "outputs": [
    {
     "name": "stdout",
     "output_type": "stream",
     "text": [
      "[ 1.2e-12  2.2e+03  1.3e+03  1.3e+03 -1.8e+03  1.8e+03 -2.6e+03  0.0\n",
      " -2.6e+03  2.6e+03 -2.6e+03  1.3e+03] [[ 0.0]\n",
      " [ 2.2e+03]\n",
      " [ 1.3e+03]\n",
      " [ 1.3e+03]\n",
      " [-1.8e+03]\n",
      " [ 1.8e+03]\n",
      " [-2.6e+03]\n",
      " [ 0.0]\n",
      " [-2.6e+03]\n",
      " [ 2.6e+03]\n",
      " [-2.6e+03]\n",
      " [ 1.3e+03]]\n"
     ]
    }
   ],
   "source": [
    "xNumpy = np.around(np.linalg.solve(a,b).reshape(12,1),2)\n",
    "xDiv = np.matmul(np.linalg.inv(a),b)\n",
    "print(xDiv,xNumpy)"
   ]
  },
  {
   "cell_type": "code",
   "execution_count": 25,
   "metadata": {},
   "outputs": [
    {
     "name": "stdout",
     "output_type": "stream",
     "text": [
      "Ax = 1.1657341758564144e-12 = 0.0\n",
      "Ay = 2218.911086754465 = 2218.91\n",
      "AB = 1281.0889132455345 = 1281.09\n",
      "BC = 1281.0889132455352 = 1281.09\n",
      "CD = -1811.7333157176452 = -1811.73\n",
      "BD = 1811.7333157176447 = 1811.73\n",
      "DE = -2562.1778264910704 = -2562.18\n",
      "BE = 0.0 = 0.0\n",
      "EF = -2562.1778264910704 = -2562.18\n",
      "BF = 2562.177826491071 = 2562.18\n",
      "AF = -2562.177826491071 = -2562.18\n",
      "Cy = 1281.0889132455352 = 1281.09\n"
     ]
    }
   ],
   "source": [
    "for i in zip(xNames, xDiv, xNumpy):\n",
    "    print('{0} = {1} = {2}'.format(i[0], i[1], i[2][0]))"
   ]
  },
  {
   "cell_type": "code",
   "execution_count": 27,
   "metadata": {
    "collapsed": true
   },
   "outputs": [],
   "source": [
    "# note: negative indicatges compression"
   ]
  }
 ],
 "metadata": {
  "kernelspec": {
   "display_name": "Python 3",
   "language": "python",
   "name": "python3"
  },
  "language_info": {
   "codemirror_mode": {
    "name": "ipython",
    "version": 3
   },
   "file_extension": ".py",
   "mimetype": "text/x-python",
   "name": "python",
   "nbconvert_exporter": "python",
   "pygments_lexer": "ipython3",
   "version": "3.5.4"
  }
 },
 "nbformat": 4,
 "nbformat_minor": 2
}
