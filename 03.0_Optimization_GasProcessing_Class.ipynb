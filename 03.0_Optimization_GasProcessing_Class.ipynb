{
 "cells": [
  {
   "cell_type": "code",
   "execution_count": null,
   "metadata": {
    "collapsed": true
   },
   "outputs": [],
   "source": [
    "import numpy as np"
   ]
  },
  {
   "cell_type": "markdown",
   "metadata": {},
   "source": [
    "Gas Processing Problem\n",
    "\n",
    "Random Brute Force"
   ]
  },
  {
   "cell_type": "code",
   "execution_count": null,
   "metadata": {
    "collapsed": true
   },
   "outputs": [],
   "source": [
    "# constraints\n",
    "maxTotal = 77 # m3/week\n",
    "maxTime = 80 # hr/week\n",
    "uProfitReg = 150 # $/tonne\n",
    "uProfitPrem = 175 # $/tonne\n",
    "rawReg = 7 # m3/tonne\n",
    "rawPrem = 11 # $/tonne\n",
    "timeReg = 10 # hr/tonne\n",
    "timePrem = 8 # hr/tonne\n",
    "maxReg = 9 # tonnes\n",
    "maxPrem =  9 # tonnes\n",
    "n = 3000 # max iterations"
   ]
  },
  {
   "cell_type": "code",
   "execution_count": null,
   "metadata": {},
   "outputs": [],
   "source": [
    "attempts = 0\n",
    "maxProfit = -1e9\n",
    "for j in range(n):\n",
    "    r = # insert variable # * np.random.ranf()\n",
    "    p = # insert variable # * np.random.ranf()\n",
    "    if (# insert conditional statement for storage #) and \\\n",
    "    (# insert conditional statement for time #):\n",
    "        totalProfit = # insert equation for total profit #\n",
    "        if # insert conditional statement #:\n",
    "            maxProfit = totalProfit\n",
    "            optR = r\n",
    "            optP = p\n",
    "    attempts = attempts + 1\n",
    "    \n",
    "print(\"The optimum amount of regular gas production is {} per week\\n\"\n",
    "      \"The optimum amount of premium gas production is {} per week\\n\"\n",
    "      \"The total profit is {:,.2f} per week\\n\"\n",
    "      \"This required {} attempts to solve\"\n",
    "     \"\".format(optR,optP,uProfitReg * optR + uProfitPrem * optP, attempts))"
   ]
  },
  {
   "cell_type": "markdown",
   "metadata": {},
   "source": [
    "Linear Programming"
   ]
  },
  {
   "cell_type": "code",
   "execution_count": null,
   "metadata": {},
   "outputs": [],
   "source": [
    "from scipy.optimize import linprog\n",
    "# IMPORTANT NOTE: linprog MINIMIZES the objective function"
   ]
  },
  {
   "cell_type": "code",
   "execution_count": null,
   "metadata": {},
   "outputs": [],
   "source": [
    "c = [# insert objective function coefficients, adjusted to MAXIMIZE #]\n",
    "A = [# insert 2d matrix of constraint coefficients #]\n",
    "b = [# insert upper bound vector #]\n",
    "x1_bounds = (0, None) # enforce positivity\n",
    "x2_bounds = (0, None) # enforce positivity\n",
    "\n",
    "result = linprog(c, A_ub=A, b_ub=b, bounds=(x1_bounds, x2_bounds), options={\"disp\": True})\n",
    "print(result)"
   ]
  }
 ],
 "metadata": {
  "kernelspec": {
   "display_name": "Python 3",
   "language": "python",
   "name": "python3"
  },
  "language_info": {
   "codemirror_mode": {
    "name": "ipython",
    "version": 3
   },
   "file_extension": ".py",
   "mimetype": "text/x-python",
   "name": "python",
   "nbconvert_exporter": "python",
   "pygments_lexer": "ipython3",
   "version": "3.5.4"
  }
 },
 "nbformat": 4,
 "nbformat_minor": 1
}
