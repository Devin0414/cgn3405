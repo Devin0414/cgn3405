{
 "cells": [
  {
   "cell_type": "code",
   "execution_count": null,
   "metadata": {
    "collapsed": true
   },
   "outputs": [],
   "source": [
    "import matplotlib.pyplot as plt\n",
    "%matplotlib inline\n",
    "\n",
    "import numpy as np"
   ]
  },
  {
   "cell_type": "markdown",
   "metadata": {},
   "source": [
    "This is **markdown**"
   ]
  },
  {
   "cell_type": "markdown",
   "metadata": {},
   "source": [
    "Our equation is $f(x,y) = y - x - 2x^2 - 2xy - y^2$\n",
    "with $\\{x\\in\\mathbb{R}:-2 \\leq x \\leq 2\\}$ and $\\{y\\in\\mathbb{R}:1 \\leq y \\leq 3\\}$"
   ]
  },
  {
   "cell_type": "code",
   "execution_count": 3,
   "metadata": {},
   "outputs": [
    {
     "data": {
      "image/png": "[encoded data removed]",
      "text/plain": [
       "<matplotlib.figure.Figure at 0x2864a0df668>"
      ]
     },
     "metadata": {},
     "output_type": "display_data"
    }
   ],
   "source": [
    "# graph the equation\n",
    "# note that I changed the bounds to show the entire shape\n",
    "xl = -2\n",
    "xu = 2\n",
    "yl = 1\n",
    "yu = 3\n",
    "xx = np.linspace(xl, xu, 100)\n",
    "yy = np.linspace(yl, yu, 100)\n",
    "x,y = np.meshgrid(xx,yy)\n",
    "F = y - x - 2*x**2 - 2*x*y - y**2\n",
    "plt.contour(x,y,F,[0])\n",
    "plt.show()"
   ]
  },
  {
   "cell_type": "markdown",
   "metadata": {},
   "source": [
    "Random brute force optimization to find maximum value"
   ]
  },
  {
   "cell_type": "code",
   "execution_count": 32,
   "metadata": {},
   "outputs": [
    {
     "name": "stdout",
     "output_type": "stream",
     "text": [
      "The coordinates of the equation maximum\n",
      "over the intervals -2 <= x <= 2 and 1 <= y <= 3\n",
      "are (-0.9496,1.5046).\n",
      "The value of the equation at this point is 1.2444\n"
     ]
    }
   ],
   "source": [
    "n = 1000 # number of iterations\n",
    "xl = -2\n",
    "xu = 2\n",
    "yl = 1\n",
    "yu = 3\n",
    "maxf = -1e9 # arbitrarily low number to initialize the reigning max value of equation\n",
    "np.random.seed(59)\n",
    "\n",
    "def eqn(x,y):\n",
    "    return y - x - 2*x**2 - 2*x*y - y**2\n",
    "\n",
    "for j in range(n):\n",
    "    x = xl + (xu - xl) * np.random.ranf()\n",
    "    y = yl + (yu - yl) * np.random.ranf()\n",
    "    F = eqn(x,y)\n",
    "    if F > maxf:\n",
    "        maxf = F\n",
    "        maxx = x\n",
    "        maxy = y\n",
    "print(\"The coordinates of the equation maximum\\n\"\n",
    "      \"over the intervals {0} <= x <= {1} and {2} <= y <= {3}\\n\"\n",
    "      \"are ({4},{5}).\\n\"\n",
    "      \"The value of the equation at this point is {6}\"\n",
    "      \"\".format(xl,xu,yl,yu,np.around(maxx,4),np.around(maxy,4),np.around(eqn(maxx,maxy),4)))"
   ]
  }
 ],
 "metadata": {
  "kernelspec": {
   "display_name": "Python 3",
   "language": "python",
   "name": "python3"
  },
  "language_info": {
   "codemirror_mode": {
    "name": "ipython",
    "version": 3
   },
   "file_extension": ".py",
   "mimetype": "text/x-python",
   "name": "python",
   "nbconvert_exporter": "python",
   "pygments_lexer": "ipython3",
   "version": "3.5.4"
  }
 },
 "nbformat": 4,
 "nbformat_minor": 1
}
