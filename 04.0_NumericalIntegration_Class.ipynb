{
 "cells": [
  {
   "cell_type": "code",
   "execution_count": 1,
   "metadata": {
    "collapsed": true
   },
   "outputs": [],
   "source": [
    "from texttable import Texttable\n",
    "# pip install texttable"
   ]
  },
  {
   "cell_type": "code",
   "execution_count": 2,
   "metadata": {
    "collapsed": true
   },
   "outputs": [],
   "source": [
    "def f(x):\n",
    "    return 0.2 + 25.*x - 200.*x**2 + 675.*x**3 - 900.*x**4 + 400.*x**5"
   ]
  },
  {
   "cell_type": "code",
   "execution_count": 3,
   "metadata": {
    "collapsed": true
   },
   "outputs": [],
   "source": [
    "def intf(x):\n",
    "    return 0.2*x + 25./2.*x**2 - 200./3.*x**3 + 675./4.*x**4 - 900./5.*x**5 + 400./6.*x**6"
   ]
  },
  {
   "cell_type": "code",
   "execution_count": 5,
   "metadata": {
    "collapsed": true
   },
   "outputs": [],
   "source": [
    "def trapRule(a,b,n,h):\n",
    "    sumNumerator = f(a)\n",
    "    if n > 1:\n",
    "        for i in range(1,n): # try generating the correct h's here\n",
    "            #sumNumerator = sumNumerator + 2.0 * f(a+i*h)\n",
    "            sumNumerator += 2.0 * f(a+i*h)\n",
    "    sumNumerator += f(b)\n",
    "    return h*sumNumerator/2."
   ]
  },
  {
   "cell_type": "code",
   "execution_count": 6,
   "metadata": {
    "collapsed": true
   },
   "outputs": [],
   "source": [
    "a = 0.0\n",
    "b = 0.8"
   ]
  },
  {
   "cell_type": "code",
   "execution_count": 7,
   "metadata": {},
   "outputs": [
    {
     "name": "stdout",
     "output_type": "stream",
     "text": [
      "1.6405333333333374\n"
     ]
    }
   ],
   "source": [
    "It = intf(b) - intf(a)\n",
    "print(It)"
   ]
  },
  {
   "cell_type": "code",
   "execution_count": 10,
   "metadata": {
    "collapsed": true
   },
   "outputs": [],
   "source": [
    "out = []\n",
    "for n in range(1,16):\n",
    "    h = (b-a)/n\n",
    "    Ia = trapRule(a,b,n,h)\n",
    "    et = (It - Ia)/It*100\n",
    "    out.append([n,h,Ia,et])"
   ]
  },
  {
   "cell_type": "code",
   "execution_count": 11,
   "metadata": {},
   "outputs": [
    {
     "name": "stdout",
     "output_type": "stream",
     "text": [
      "+----+-------+-------+--------+\n",
      "| n  |   h   |  Ia   | εt (%) |\n",
      "+====+=======+=======+========+\n",
      "| 1  | 0.800 | 0.173 | 89.467 |\n",
      "+----+-------+-------+--------+\n",
      "| 2  | 0.400 | 1.069 | 34.850 |\n",
      "+----+-------+-------+--------+\n",
      "| 3  | 0.267 | 1.370 | 16.517 |\n",
      "+----+-------+-------+--------+\n",
      "| 4  | 0.200 | 1.485 | 9.493  |\n",
      "+----+-------+-------+--------+\n",
      "| 5  | 0.160 | 1.540 | 6.135  |\n",
      "+----+-------+-------+--------+\n",
      "| 6  | 0.133 | 1.570 | 4.283  |\n",
      "+----+-------+-------+--------+\n",
      "| 7  | 0.114 | 1.589 | 3.157  |\n",
      "+----+-------+-------+--------+\n",
      "| 8  | 0.100 | 1.601 | 2.422  |\n",
      "+----+-------+-------+--------+\n",
      "| 9  | 0.089 | 1.609 | 1.916  |\n",
      "+----+-------+-------+--------+\n",
      "| 10 | 0.080 | 1.615 | 1.554  |\n",
      "+----+-------+-------+--------+\n",
      "| 11 | 0.073 | 1.619 | 1.285  |\n",
      "+----+-------+-------+--------+\n",
      "| 12 | 0.067 | 1.623 | 1.080  |\n",
      "+----+-------+-------+--------+\n",
      "| 13 | 0.062 | 1.625 | 0.921  |\n",
      "+----+-------+-------+--------+\n",
      "| 14 | 0.057 | 1.628 | 0.794  |\n",
      "+----+-------+-------+--------+\n",
      "| 15 | 0.053 | 1.629 | 0.692  |\n",
      "+----+-------+-------+--------+\n"
     ]
    }
   ],
   "source": [
    "t = Texttable()\n",
    "t.set_cols_align([\"c\",\"c\",\"c\",\"c\"])\n",
    "t.set_cols_valign([\"m\",\"m\",\"m\",\"m\"])\n",
    "t.header([\"n\",\"h\",\"Ia\",u'\\u03B5'+'t (%)'])\n",
    "t.add_rows(out,header=False)\n",
    "print(t.draw())"
   ]
  },
  {
   "cell_type": "code",
   "execution_count": null,
   "metadata": {
    "collapsed": true
   },
   "outputs": [],
   "source": []
  }
 ],
 "metadata": {
  "kernelspec": {
   "display_name": "Python 3",
   "language": "python",
   "name": "python3"
  },
  "language_info": {
   "codemirror_mode": {
    "name": "ipython",
    "version": 3
   },
   "file_extension": ".py",
   "mimetype": "text/x-python",
   "name": "python",
   "nbconvert_exporter": "python",
   "pygments_lexer": "ipython3",
   "version": "3.5.4"
  }
 },
 "nbformat": 4,
 "nbformat_minor": 1
}
